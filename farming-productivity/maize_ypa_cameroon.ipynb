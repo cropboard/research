{
 "cells": [
  {
   "cell_type": "markdown",
   "id": "d82b152c",
   "metadata": {},
   "source": [
    "\n",
    "Maize Production, Yield and Area Harvested in Cameroon from the year 1961 to the year 2014\n",
    "\n",
    "Analysis by : Josias Aurel\n",
    "\n",
    "Data Source : data.world (Agricultural dataset)\n"
   ]
  },
  {
   "cell_type": "code",
   "execution_count": 2,
   "id": "de0034f4",
   "metadata": {},
   "outputs": [],
   "source": [
    "import numpy as np\n",
    "import pandas as pd\n",
    "import re\n",
    "import matplotlib.pyplot as plt\n"
   ]
  },
  {
   "cell_type": "code",
   "execution_count": 5,
   "id": "28d86399",
   "metadata": {},
   "outputs": [],
   "source": [
    "df = pd.read_csv(\"./data.csv\")  # create new pandas dataframe"
   ]
  },
  {
   "cell_type": "code",
   "execution_count": 6,
   "id": "e79ad94b",
   "metadata": {},
   "outputs": [],
   "source": [
    "cameroon_data = df.loc[1212: 1214] # select only maize data in Cameroon"
   ]
  },
  {
   "cell_type": "code",
   "execution_count": 7,
   "id": "afea2a4a",
   "metadata": {
    "scrolled": true
   },
   "outputs": [
    {
     "data": {
      "text/html": [
       "<div>\n",
       "<style scoped>\n",
       "    .dataframe tbody tr th:only-of-type {\n",
       "        vertical-align: middle;\n",
       "    }\n",
       "\n",
       "    .dataframe tbody tr th {\n",
       "        vertical-align: top;\n",
       "    }\n",
       "\n",
       "    .dataframe thead th {\n",
       "        text-align: right;\n",
       "    }\n",
       "</style>\n",
       "<table border=\"1\" class=\"dataframe\">\n",
       "  <thead>\n",
       "    <tr style=\"text-align: right;\">\n",
       "      <th></th>\n",
       "      <th>Area Code</th>\n",
       "      <th>Area</th>\n",
       "      <th>Item Code</th>\n",
       "      <th>Item</th>\n",
       "      <th>Element Code</th>\n",
       "      <th>Element</th>\n",
       "      <th>Unit</th>\n",
       "      <th>Y1961</th>\n",
       "      <th>Y1961F</th>\n",
       "      <th>Y1962</th>\n",
       "      <th>...</th>\n",
       "      <th>Y2010</th>\n",
       "      <th>Y2010F</th>\n",
       "      <th>Y2011</th>\n",
       "      <th>Y2011F</th>\n",
       "      <th>Y2012</th>\n",
       "      <th>Y2012F</th>\n",
       "      <th>Y2013</th>\n",
       "      <th>Y2013F</th>\n",
       "      <th>Y2014</th>\n",
       "      <th>Y2014F</th>\n",
       "    </tr>\n",
       "  </thead>\n",
       "  <tbody>\n",
       "    <tr>\n",
       "      <th>1212</th>\n",
       "      <td>32</td>\n",
       "      <td>Cameroon</td>\n",
       "      <td>56</td>\n",
       "      <td>Maize</td>\n",
       "      <td>5419</td>\n",
       "      <td>Yield</td>\n",
       "      <td>hg/ha</td>\n",
       "      <td>7826.0</td>\n",
       "      <td>Fc</td>\n",
       "      <td>7447.0</td>\n",
       "      <td>...</td>\n",
       "      <td>19741.0</td>\n",
       "      <td>Fc</td>\n",
       "      <td>20240.0</td>\n",
       "      <td>Fc</td>\n",
       "      <td>17152.0</td>\n",
       "      <td>Fc</td>\n",
       "      <td>19787.0</td>\n",
       "      <td>Fc</td>\n",
       "      <td>20019.0</td>\n",
       "      <td>Fc</td>\n",
       "    </tr>\n",
       "    <tr>\n",
       "      <th>1213</th>\n",
       "      <td>32</td>\n",
       "      <td>Cameroon</td>\n",
       "      <td>56</td>\n",
       "      <td>Maize</td>\n",
       "      <td>5510</td>\n",
       "      <td>Production</td>\n",
       "      <td>tonnes</td>\n",
       "      <td>360000.0</td>\n",
       "      <td>F</td>\n",
       "      <td>350000.0</td>\n",
       "      <td>...</td>\n",
       "      <td>1670321.0</td>\n",
       "      <td>NaN</td>\n",
       "      <td>1572067.0</td>\n",
       "      <td>NaN</td>\n",
       "      <td>1749976.0</td>\n",
       "      <td>NaN</td>\n",
       "      <td>1647036.0</td>\n",
       "      <td>NaN</td>\n",
       "      <td>1600000.0</td>\n",
       "      <td>*</td>\n",
       "    </tr>\n",
       "    <tr>\n",
       "      <th>1214</th>\n",
       "      <td>32</td>\n",
       "      <td>Cameroon</td>\n",
       "      <td>56</td>\n",
       "      <td>Maize</td>\n",
       "      <td>5525</td>\n",
       "      <td>Seed</td>\n",
       "      <td>tonnes</td>\n",
       "      <td>14100.0</td>\n",
       "      <td>Fc</td>\n",
       "      <td>13500.0</td>\n",
       "      <td>...</td>\n",
       "      <td>22564.0</td>\n",
       "      <td>Fc</td>\n",
       "      <td>30609.0</td>\n",
       "      <td>Fc</td>\n",
       "      <td>24972.0</td>\n",
       "      <td>Fc</td>\n",
       "      <td>24972.0</td>\n",
       "      <td>Fc</td>\n",
       "      <td>NaN</td>\n",
       "      <td>NaN</td>\n",
       "    </tr>\n",
       "  </tbody>\n",
       "</table>\n",
       "<p>3 rows × 115 columns</p>\n",
       "</div>"
      ],
      "text/plain": [
       "      Area Code      Area  Item Code   Item  Element Code     Element    Unit  \\\n",
       "1212         32  Cameroon         56  Maize          5419       Yield   hg/ha   \n",
       "1213         32  Cameroon         56  Maize          5510  Production  tonnes   \n",
       "1214         32  Cameroon         56  Maize          5525        Seed  tonnes   \n",
       "\n",
       "         Y1961 Y1961F     Y1962  ...      Y2010  Y2010F      Y2011  Y2011F  \\\n",
       "1212    7826.0     Fc    7447.0  ...    19741.0      Fc    20240.0      Fc   \n",
       "1213  360000.0      F  350000.0  ...  1670321.0     NaN  1572067.0     NaN   \n",
       "1214   14100.0     Fc   13500.0  ...    22564.0      Fc    30609.0      Fc   \n",
       "\n",
       "          Y2012  Y2012F      Y2013  Y2013F      Y2014  Y2014F  \n",
       "1212    17152.0      Fc    19787.0      Fc    20019.0      Fc  \n",
       "1213  1749976.0     NaN  1647036.0     NaN  1600000.0       *  \n",
       "1214    24972.0      Fc    24972.0      Fc        NaN     NaN  \n",
       "\n",
       "[3 rows x 115 columns]"
      ]
     },
     "execution_count": 7,
     "metadata": {},
     "output_type": "execute_result"
    }
   ],
   "source": [
    "cameroon_data"
   ]
  },
  {
   "cell_type": "code",
   "execution_count": 8,
   "id": "2dadaf6f",
   "metadata": {},
   "outputs": [],
   "source": [
    "# drop unecessary data columns\n",
    "cameroon_data = cameroon_data.drop(\n",
    "    columns=[\"Area Code\", \"Item Code\", \"Area\", \"Item\", \"Element Code\", \"Element\", \"Unit\"])"
   ]
  },
  {
   "cell_type": "code",
   "execution_count": 9,
   "id": "22f5238b",
   "metadata": {},
   "outputs": [
    {
     "data": {
      "text/html": [
       "<div>\n",
       "<style scoped>\n",
       "    .dataframe tbody tr th:only-of-type {\n",
       "        vertical-align: middle;\n",
       "    }\n",
       "\n",
       "    .dataframe tbody tr th {\n",
       "        vertical-align: top;\n",
       "    }\n",
       "\n",
       "    .dataframe thead th {\n",
       "        text-align: right;\n",
       "    }\n",
       "</style>\n",
       "<table border=\"1\" class=\"dataframe\">\n",
       "  <thead>\n",
       "    <tr style=\"text-align: right;\">\n",
       "      <th></th>\n",
       "      <th>Y1961</th>\n",
       "      <th>Y1961F</th>\n",
       "      <th>Y1962</th>\n",
       "      <th>Y1962F</th>\n",
       "      <th>Y1963</th>\n",
       "      <th>Y1963F</th>\n",
       "      <th>Y1964</th>\n",
       "      <th>Y1964F</th>\n",
       "      <th>Y1965</th>\n",
       "      <th>Y1965F</th>\n",
       "      <th>...</th>\n",
       "      <th>Y2010</th>\n",
       "      <th>Y2010F</th>\n",
       "      <th>Y2011</th>\n",
       "      <th>Y2011F</th>\n",
       "      <th>Y2012</th>\n",
       "      <th>Y2012F</th>\n",
       "      <th>Y2013</th>\n",
       "      <th>Y2013F</th>\n",
       "      <th>Y2014</th>\n",
       "      <th>Y2014F</th>\n",
       "    </tr>\n",
       "  </thead>\n",
       "  <tbody>\n",
       "    <tr>\n",
       "      <th>1212</th>\n",
       "      <td>7826.0</td>\n",
       "      <td>Fc</td>\n",
       "      <td>7447.0</td>\n",
       "      <td>Fc</td>\n",
       "      <td>7556.0</td>\n",
       "      <td>Fc</td>\n",
       "      <td>7586.0</td>\n",
       "      <td>Fc</td>\n",
       "      <td>7586.0</td>\n",
       "      <td>Fc</td>\n",
       "      <td>...</td>\n",
       "      <td>19741.0</td>\n",
       "      <td>Fc</td>\n",
       "      <td>20240.0</td>\n",
       "      <td>Fc</td>\n",
       "      <td>17152.0</td>\n",
       "      <td>Fc</td>\n",
       "      <td>19787.0</td>\n",
       "      <td>Fc</td>\n",
       "      <td>20019.0</td>\n",
       "      <td>Fc</td>\n",
       "    </tr>\n",
       "    <tr>\n",
       "      <th>1213</th>\n",
       "      <td>360000.0</td>\n",
       "      <td>F</td>\n",
       "      <td>350000.0</td>\n",
       "      <td>F</td>\n",
       "      <td>340000.0</td>\n",
       "      <td>F</td>\n",
       "      <td>330000.0</td>\n",
       "      <td>F</td>\n",
       "      <td>330000.0</td>\n",
       "      <td>F</td>\n",
       "      <td>...</td>\n",
       "      <td>1670321.0</td>\n",
       "      <td>NaN</td>\n",
       "      <td>1572067.0</td>\n",
       "      <td>NaN</td>\n",
       "      <td>1749976.0</td>\n",
       "      <td>NaN</td>\n",
       "      <td>1647036.0</td>\n",
       "      <td>NaN</td>\n",
       "      <td>1600000.0</td>\n",
       "      <td>*</td>\n",
       "    </tr>\n",
       "    <tr>\n",
       "      <th>1214</th>\n",
       "      <td>14100.0</td>\n",
       "      <td>Fc</td>\n",
       "      <td>13500.0</td>\n",
       "      <td>Fc</td>\n",
       "      <td>13050.0</td>\n",
       "      <td>Fc</td>\n",
       "      <td>13050.0</td>\n",
       "      <td>Fc</td>\n",
       "      <td>12600.0</td>\n",
       "      <td>Fc</td>\n",
       "      <td>...</td>\n",
       "      <td>22564.0</td>\n",
       "      <td>Fc</td>\n",
       "      <td>30609.0</td>\n",
       "      <td>Fc</td>\n",
       "      <td>24972.0</td>\n",
       "      <td>Fc</td>\n",
       "      <td>24972.0</td>\n",
       "      <td>Fc</td>\n",
       "      <td>NaN</td>\n",
       "      <td>NaN</td>\n",
       "    </tr>\n",
       "  </tbody>\n",
       "</table>\n",
       "<p>3 rows × 108 columns</p>\n",
       "</div>"
      ],
      "text/plain": [
       "         Y1961 Y1961F     Y1962 Y1962F     Y1963 Y1963F     Y1964 Y1964F  \\\n",
       "1212    7826.0     Fc    7447.0     Fc    7556.0     Fc    7586.0     Fc   \n",
       "1213  360000.0      F  350000.0      F  340000.0      F  330000.0      F   \n",
       "1214   14100.0     Fc   13500.0     Fc   13050.0     Fc   13050.0     Fc   \n",
       "\n",
       "         Y1965 Y1965F  ...      Y2010 Y2010F      Y2011 Y2011F      Y2012  \\\n",
       "1212    7586.0     Fc  ...    19741.0     Fc    20240.0     Fc    17152.0   \n",
       "1213  330000.0      F  ...  1670321.0    NaN  1572067.0    NaN  1749976.0   \n",
       "1214   12600.0     Fc  ...    22564.0     Fc    30609.0     Fc    24972.0   \n",
       "\n",
       "     Y2012F      Y2013 Y2013F      Y2014 Y2014F  \n",
       "1212     Fc    19787.0     Fc    20019.0     Fc  \n",
       "1213    NaN  1647036.0    NaN  1600000.0      *  \n",
       "1214     Fc    24972.0     Fc        NaN    NaN  \n",
       "\n",
       "[3 rows x 108 columns]"
      ]
     },
     "execution_count": 9,
     "metadata": {},
     "output_type": "execute_result"
    }
   ],
   "source": [
    "cameroon_data"
   ]
  },
  {
   "cell_type": "code",
   "execution_count": 10,
   "id": "39570abf",
   "metadata": {},
   "outputs": [],
   "source": [
    "rem_cols = []\n",
    "year_cols_ = cameroon_data.columns\n",
    "\n",
    "# loop throught the data and remove the columns containing of  years containing a trailing 'F' at the end\n",
    "for i in range(len(year_cols_)):\n",
    "    if re.compile(r\"\\wF\").search(year_cols_[i]) != None:\n",
    "        rem_cols.append(year_cols_[i])\n",
    "    else:\n",
    "        pass\n",
    "cameroon_data = cameroon_data.drop(columns=rem_cols)"
   ]
  },
  {
   "cell_type": "code",
   "execution_count": 11,
   "id": "414a0a75",
   "metadata": {},
   "outputs": [
    {
     "data": {
      "text/html": [
       "<div>\n",
       "<style scoped>\n",
       "    .dataframe tbody tr th:only-of-type {\n",
       "        vertical-align: middle;\n",
       "    }\n",
       "\n",
       "    .dataframe tbody tr th {\n",
       "        vertical-align: top;\n",
       "    }\n",
       "\n",
       "    .dataframe thead th {\n",
       "        text-align: right;\n",
       "    }\n",
       "</style>\n",
       "<table border=\"1\" class=\"dataframe\">\n",
       "  <thead>\n",
       "    <tr style=\"text-align: right;\">\n",
       "      <th></th>\n",
       "      <th>Y1961</th>\n",
       "      <th>Y1962</th>\n",
       "      <th>Y1963</th>\n",
       "      <th>Y1964</th>\n",
       "      <th>Y1965</th>\n",
       "      <th>Y1966</th>\n",
       "      <th>Y1967</th>\n",
       "      <th>Y1968</th>\n",
       "      <th>Y1969</th>\n",
       "      <th>Y1970</th>\n",
       "      <th>...</th>\n",
       "      <th>Y2005</th>\n",
       "      <th>Y2006</th>\n",
       "      <th>Y2007</th>\n",
       "      <th>Y2008</th>\n",
       "      <th>Y2009</th>\n",
       "      <th>Y2010</th>\n",
       "      <th>Y2011</th>\n",
       "      <th>Y2012</th>\n",
       "      <th>Y2013</th>\n",
       "      <th>Y2014</th>\n",
       "    </tr>\n",
       "  </thead>\n",
       "  <tbody>\n",
       "    <tr>\n",
       "      <th>1212</th>\n",
       "      <td>7826.0</td>\n",
       "      <td>7447.0</td>\n",
       "      <td>7556.0</td>\n",
       "      <td>7586.0</td>\n",
       "      <td>7586.0</td>\n",
       "      <td>7619.0</td>\n",
       "      <td>7506.0</td>\n",
       "      <td>8161.0</td>\n",
       "      <td>9302.0</td>\n",
       "      <td>8957.0</td>\n",
       "      <td>...</td>\n",
       "      <td>21334.0</td>\n",
       "      <td>22224.0</td>\n",
       "      <td>20000.0</td>\n",
       "      <td>20000.0</td>\n",
       "      <td>19787.0</td>\n",
       "      <td>19741.0</td>\n",
       "      <td>20240.0</td>\n",
       "      <td>17152.0</td>\n",
       "      <td>19787.0</td>\n",
       "      <td>20019.0</td>\n",
       "    </tr>\n",
       "    <tr>\n",
       "      <th>1213</th>\n",
       "      <td>360000.0</td>\n",
       "      <td>350000.0</td>\n",
       "      <td>340000.0</td>\n",
       "      <td>330000.0</td>\n",
       "      <td>330000.0</td>\n",
       "      <td>320000.0</td>\n",
       "      <td>310000.0</td>\n",
       "      <td>355000.0</td>\n",
       "      <td>400000.0</td>\n",
       "      <td>412000.0</td>\n",
       "      <td>...</td>\n",
       "      <td>1050396.0</td>\n",
       "      <td>1249489.0</td>\n",
       "      <td>1322160.0</td>\n",
       "      <td>1394832.0</td>\n",
       "      <td>1625213.0</td>\n",
       "      <td>1670321.0</td>\n",
       "      <td>1572067.0</td>\n",
       "      <td>1749976.0</td>\n",
       "      <td>1647036.0</td>\n",
       "      <td>1600000.0</td>\n",
       "    </tr>\n",
       "    <tr>\n",
       "      <th>1214</th>\n",
       "      <td>14100.0</td>\n",
       "      <td>13500.0</td>\n",
       "      <td>13050.0</td>\n",
       "      <td>13050.0</td>\n",
       "      <td>12600.0</td>\n",
       "      <td>12390.0</td>\n",
       "      <td>13050.0</td>\n",
       "      <td>12900.0</td>\n",
       "      <td>13800.0</td>\n",
       "      <td>14700.0</td>\n",
       "      <td>...</td>\n",
       "      <td>16867.0</td>\n",
       "      <td>19832.0</td>\n",
       "      <td>20922.0</td>\n",
       "      <td>24641.0</td>\n",
       "      <td>25384.0</td>\n",
       "      <td>22564.0</td>\n",
       "      <td>30609.0</td>\n",
       "      <td>24972.0</td>\n",
       "      <td>24972.0</td>\n",
       "      <td>NaN</td>\n",
       "    </tr>\n",
       "  </tbody>\n",
       "</table>\n",
       "<p>3 rows × 54 columns</p>\n",
       "</div>"
      ],
      "text/plain": [
       "         Y1961     Y1962     Y1963     Y1964     Y1965     Y1966     Y1967  \\\n",
       "1212    7826.0    7447.0    7556.0    7586.0    7586.0    7619.0    7506.0   \n",
       "1213  360000.0  350000.0  340000.0  330000.0  330000.0  320000.0  310000.0   \n",
       "1214   14100.0   13500.0   13050.0   13050.0   12600.0   12390.0   13050.0   \n",
       "\n",
       "         Y1968     Y1969     Y1970  ...      Y2005      Y2006      Y2007  \\\n",
       "1212    8161.0    9302.0    8957.0  ...    21334.0    22224.0    20000.0   \n",
       "1213  355000.0  400000.0  412000.0  ...  1050396.0  1249489.0  1322160.0   \n",
       "1214   12900.0   13800.0   14700.0  ...    16867.0    19832.0    20922.0   \n",
       "\n",
       "          Y2008      Y2009      Y2010      Y2011      Y2012      Y2013  \\\n",
       "1212    20000.0    19787.0    19741.0    20240.0    17152.0    19787.0   \n",
       "1213  1394832.0  1625213.0  1670321.0  1572067.0  1749976.0  1647036.0   \n",
       "1214    24641.0    25384.0    22564.0    30609.0    24972.0    24972.0   \n",
       "\n",
       "          Y2014  \n",
       "1212    20019.0  \n",
       "1213  1600000.0  \n",
       "1214        NaN  \n",
       "\n",
       "[3 rows x 54 columns]"
      ]
     },
     "execution_count": 11,
     "metadata": {},
     "output_type": "execute_result"
    }
   ],
   "source": [
    "cameroon_data"
   ]
  },
  {
   "cell_type": "code",
   "execution_count": 12,
   "id": "945728e4",
   "metadata": {},
   "outputs": [],
   "source": [
    "cm_yield = cameroon_data.loc[1212] # get only the yield in cameroon for maize between years 1961 and 2014"
   ]
  },
  {
   "cell_type": "code",
   "execution_count": 13,
   "id": "5063e0d8",
   "metadata": {},
   "outputs": [],
   "source": [
    "# convert yield data to dictionary for easy manipulation (probably not necessary)\n",
    "cm_yield = cm_yield.to_dict()\n",
    "\n",
    "yield_y = []\n",
    "yield_x = []\n",
    "\n",
    "# loop between the years and the yield in the year\n",
    "for k in cm_yield.keys():\n",
    "    yield_y.append(k)\n",
    "    yield_x.append(cm_yield[k])\n"
   ]
  },
  {
   "cell_type": "code",
   "execution_count": 14,
   "id": "ace91ffe",
   "metadata": {},
   "outputs": [
    {
     "data": {
      "image/png": "[encoded data removed]",
      "text/plain": [
       "<Figure size 432x288 with 1 Axes>"
      ]
     },
     "metadata": {
      "needs_background": "light"
     },
     "output_type": "display_data"
    }
   ],
   "source": [
    "# plot yield data between the years 1961 and 2014\n",
    "plt.plot(yield_y, yield_x)\n",
    "plt.show()"
   ]
  },
  {
   "cell_type": "markdown",
   "id": "1f408be7",
   "metadata": {},
   "source": [
    "### Above plot is the maize crop yield in Cameroon between the years 1961 to 2014"
   ]
  },
  {
   "cell_type": "code",
   "execution_count": null,
   "id": "547ed34c",
   "metadata": {},
   "outputs": [],
   "source": []
  },
  {
   "cell_type": "code",
   "execution_count": null,
   "id": "f9014e5e",
   "metadata": {},
   "outputs": [],
   "source": []
  },
  {
   "cell_type": "code",
   "execution_count": 16,
   "id": "097fcefa",
   "metadata": {},
   "outputs": [
    {
     "data": {
      "image/png": "[encoded data removed]",
      "text/plain": [
       "<Figure size 432x288 with 1 Axes>"
      ]
     },
     "metadata": {
      "needs_background": "light"
     },
     "output_type": "display_data"
    }
   ],
   "source": [
    "# Now we focus on the Production\n",
    "cm_prod = cameroon_data.loc[1213]\n",
    "\n",
    "cm_prod = cm_prod.to_dict()\n",
    "\n",
    "prod_y = []\n",
    "prod_x = []\n",
    "\n",
    "for k in cm_prod.keys():\n",
    "    prod_y.append(k)\n",
    "    prod_x.append(cm_prod[k])\n",
    "\n",
    "plt.plot(prod_y, prod_x)\n",
    "plt.show()"
   ]
  },
  {
   "cell_type": "markdown",
   "id": "e41b4668",
   "metadata": {},
   "source": [
    "### Above is the profuction of maize crop in Cameroon from the years 1961 to 2014\n"
   ]
  },
  {
   "cell_type": "code",
   "execution_count": null,
   "id": "e3fa3fcd",
   "metadata": {},
   "outputs": [],
   "source": [
    "\n",
    "\n"
   ]
  },
  {
   "cell_type": "code",
   "execution_count": null,
   "id": "a521f89b",
   "metadata": {},
   "outputs": [],
   "source": [
    "\n",
    "\n"
   ]
  },
  {
   "cell_type": "code",
   "execution_count": 19,
   "id": "2e1bd150",
   "metadata": {},
   "outputs": [
    {
     "data": {
      "image/png": "[encoded data removed]",
      "text/plain": [
       "<Figure size 432x288 with 1 Axes>"
      ]
     },
     "metadata": {
      "needs_background": "light"
     },
     "output_type": "display_data"
    }
   ],
   "source": [
    "# Area harvested\n",
    "cm_ahar = cameroon_data.loc[1214]\n",
    "\n",
    "cm_ahar = cm_ahar.to_dict()\n",
    "\n",
    "ahar_y = []\n",
    "ahar_x = []\n",
    "\n",
    "for k in cm_prod.keys():\n",
    "    ahar_y.append(k)\n",
    "    ahar_x.append(cm_ahar[k])\n",
    "\n",
    "plt.plot(ahar_y, ahar_x)\n",
    "plt.show()"
   ]
  },
  {
   "cell_type": "markdown",
   "id": "2da75342",
   "metadata": {},
   "source": [
    "### This is a simple plot of Area of Maize Harversted in Cameroo [1961 to 2014]"
   ]
  },
  {
   "cell_type": "markdown",
   "id": "0c8a8ed6",
   "metadata": {},
   "source": [
    "This is a really simple analysis with rough pointless plots. "
   ]
  },
  {
   "cell_type": "code",
   "execution_count": null,
   "id": "356d8930",
   "metadata": {},
   "outputs": [],
   "source": []
  }
 ],
 "metadata": {
  "kernelspec": {
   "display_name": "Python 3",
   "language": "python",
   "name": "python3"
  },
  "language_info": {
   "codemirror_mode": {
    "name": "ipython",
    "version": 3
   },
   "file_extension": ".py",
   "mimetype": "text/x-python",
   "name": "python",
   "nbconvert_exporter": "python",
   "pygments_lexer": "ipython3",
   "version": "3.9.2"
  }
 },
 "nbformat": 4,
 "nbformat_minor": 5
}
