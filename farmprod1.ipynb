{
 "metadata": {
  "language_info": {
   "codemirror_mode": {
    "name": "ipython",
    "version": 3
   },
   "file_extension": ".py",
   "mimetype": "text/x-python",
   "name": "python",
   "nbconvert_exporter": "python",
   "pygments_lexer": "ipython3",
   "version": "3.8.5"
  },
  "orig_nbformat": 2,
  "kernelspec": {
   "name": "python385jvsc74a57bd07754af854fb1a4df0213e80414712fdec929a8bf725169fdcece9227bff107fe",
   "display_name": "Python 3.8.5 32-bit"
  }
 },
 "nbformat": 4,
 "nbformat_minor": 2,
 "cells": [
  {
   "cell_type": "code",
   "execution_count": 1,
   "metadata": {},
   "outputs": [
    {
     "output_type": "execute_result",
     "data": {
      "text/plain": [
       "'\\nThis notebook contains analysis of a farming productivity data (sample?)\\n\\nSource : https://www.kaggle.com/srinivas1/agricuture-crops-production-in-india?select=datafile+%282%29.csv\\n'"
      ]
     },
     "metadata": {},
     "execution_count": 1
    }
   ],
   "source": [
    "\"\"\"\n",
    "This notebook contains analysis of a farming productivity data (sample?)\n",
    "\n",
    "Source : https://www.kaggle.com/srinivas1/agricuture-crops-production-in-india?select=datafile+%282%29.csv\n",
    "\"\"\""
   ]
  },
  {
   "cell_type": "code",
   "execution_count": null,
   "metadata": {},
   "outputs": [],
   "source": [
    "\"\"\"\n",
    "Goals :\n",
    "\n",
    "A simple model that will be able to determine the cost of cultivation given a certain crop and target yield\n",
    "\"\"\""
   ]
  }
 ]
}